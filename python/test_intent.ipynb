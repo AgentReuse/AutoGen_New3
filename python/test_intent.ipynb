{
 "cells": [
  {
   "cell_type": "code",
   "id": "initial_id",
   "metadata": {
    "collapsed": true,
    "ExecuteTime": {
     "end_time": "2025-07-10T11:30:43.649182Z",
     "start_time": "2025-07-10T11:30:42.732929Z"
    }
   },
   "source": [
    "# Example usage in another script:\n",
    "from python.samples.agentchat_plan.transit_intent import load_models, predict\n",
    "#load_models()  # optional, uses default dirs\n",
    "load_models(intent_dir=\"samples/agentchat_plan/transit_intent/bert_intent_model\",\n",
    "            slot_dir=\"samples/agentchat_plan/transit_intent/bert_slot_model\")\n",
    "result = predict(\"Is the train from JFK Airport to San Francisco running next Monday?\")\n",
    "print(result)\n"
   ],
   "outputs": [
    {
     "name": "stderr",
     "output_type": "stream",
     "text": [
      "Device set to use cuda:0\n",
      "Device set to use cuda:0\n"
     ]
    },
    {
     "name": "stdout",
     "output_type": "stream",
     "text": [
      "{'intent': {'label': 'status_query', 'score': 0.8607860803604126}, 'entities': {'transport_mode': 'train', 'source': 'jfk airport', 'destination': 'san francisco', 'date': 'next monday'}}\n"
     ]
    }
   ],
   "execution_count": 10
  },
  {
   "metadata": {
    "ExecuteTime": {
     "end_time": "2025-07-10T11:29:18.864488Z",
     "start_time": "2025-07-10T11:29:18.848124Z"
    }
   },
   "cell_type": "code",
   "source": [
    "print(result['intent'])\n",
    "print(result['intent']['label'])\n",
    "print(result['entities'])"
   ],
   "id": "7096ed2c677bb4a1",
   "outputs": [
    {
     "name": "stdout",
     "output_type": "stream",
     "text": [
      "{'label': 'status_query', 'score': 0.8607860803604126}\n",
      "status_query\n",
      "{'transport_mode': 'train', 'source': 'jfk airport', 'destination': 'san francisco', 'date': 'next monday'}\n"
     ]
    }
   ],
   "execution_count": 7
  }
 ],
 "metadata": {
  "kernelspec": {
   "display_name": "Python 3",
   "language": "python",
   "name": "python3"
  },
  "language_info": {
   "codemirror_mode": {
    "name": "ipython",
    "version": 2
   },
   "file_extension": ".py",
   "mimetype": "text/x-python",
   "name": "python",
   "nbconvert_exporter": "python",
   "pygments_lexer": "ipython2",
   "version": "2.7.6"
  }
 },
 "nbformat": 4,
 "nbformat_minor": 5
}
